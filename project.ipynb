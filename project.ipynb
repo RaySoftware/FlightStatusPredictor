{
 "cells": [
  {
   "cell_type": "code",
   "execution_count": 1,
   "metadata": {},
   "outputs": [],
   "source": [
    "import pandas as pd\n",
    "import matplotlib.pyplot as plt"
   ]
  },
  {
   "cell_type": "code",
   "execution_count": 2,
   "metadata": {},
   "outputs": [
    {
     "name": "stderr",
     "output_type": "stream",
     "text": [
      "/usr/lib/python3/dist-packages/IPython/core/interactiveshell.py:2718: DtypeWarning: Columns (11,13,86,93) have mixed types. Specify dtype option on import or set low_memory=False.\n",
      "  interactivity=interactivity, compiler=compiler, result=result)\n"
     ]
    }
   ],
   "source": [
    "flight_data = pd.read_csv('Flights_2021_1.csv')"
   ]
  },
  {
   "cell_type": "code",
   "execution_count": 3,
   "metadata": {},
   "outputs": [
    {
     "data": {
      "text/html": [
       "<div>\n",
       "<style scoped>\n",
       "    .dataframe tbody tr th:only-of-type {\n",
       "        vertical-align: middle;\n",
       "    }\n",
       "\n",
       "    .dataframe tbody tr th {\n",
       "        vertical-align: top;\n",
       "    }\n",
       "\n",
       "    .dataframe thead th {\n",
       "        text-align: right;\n",
       "    }\n",
       "</style>\n",
       "<table border=\"1\" class=\"dataframe\">\n",
       "  <thead>\n",
       "    <tr style=\"text-align: right;\">\n",
       "      <th></th>\n",
       "      <th>Year</th>\n",
       "      <th>Quarter</th>\n",
       "      <th>Month</th>\n",
       "      <th>DayofMonth</th>\n",
       "      <th>DayOfWeek</th>\n",
       "      <th>FlightDate</th>\n",
       "      <th>Marketing_Airline_Network</th>\n",
       "      <th>Operated_or_Branded_Code_Share_Partners</th>\n",
       "      <th>DOT_ID_Marketing_Airline</th>\n",
       "      <th>IATA_Code_Marketing_Airline</th>\n",
       "      <th>...</th>\n",
       "      <th>Div5Airport</th>\n",
       "      <th>Div5AirportID</th>\n",
       "      <th>Div5AirportSeqID</th>\n",
       "      <th>Div5WheelsOn</th>\n",
       "      <th>Div5TotalGTime</th>\n",
       "      <th>Div5LongestGTime</th>\n",
       "      <th>Div5WheelsOff</th>\n",
       "      <th>Div5TailNum</th>\n",
       "      <th>Duplicate</th>\n",
       "      <th>Unnamed: 119</th>\n",
       "    </tr>\n",
       "  </thead>\n",
       "  <tbody>\n",
       "    <tr>\n",
       "      <th>0</th>\n",
       "      <td>2021</td>\n",
       "      <td>1</td>\n",
       "      <td>1</td>\n",
       "      <td>2</td>\n",
       "      <td>6</td>\n",
       "      <td>2021-01-02</td>\n",
       "      <td>DL</td>\n",
       "      <td>DL_CODESHARE</td>\n",
       "      <td>19790</td>\n",
       "      <td>DL</td>\n",
       "      <td>...</td>\n",
       "      <td>NaN</td>\n",
       "      <td>NaN</td>\n",
       "      <td>NaN</td>\n",
       "      <td>NaN</td>\n",
       "      <td>NaN</td>\n",
       "      <td>NaN</td>\n",
       "      <td>NaN</td>\n",
       "      <td>NaN</td>\n",
       "      <td>N</td>\n",
       "      <td>NaN</td>\n",
       "    </tr>\n",
       "    <tr>\n",
       "      <th>1</th>\n",
       "      <td>2021</td>\n",
       "      <td>1</td>\n",
       "      <td>1</td>\n",
       "      <td>3</td>\n",
       "      <td>7</td>\n",
       "      <td>2021-01-03</td>\n",
       "      <td>DL</td>\n",
       "      <td>DL_CODESHARE</td>\n",
       "      <td>19790</td>\n",
       "      <td>DL</td>\n",
       "      <td>...</td>\n",
       "      <td>NaN</td>\n",
       "      <td>NaN</td>\n",
       "      <td>NaN</td>\n",
       "      <td>NaN</td>\n",
       "      <td>NaN</td>\n",
       "      <td>NaN</td>\n",
       "      <td>NaN</td>\n",
       "      <td>NaN</td>\n",
       "      <td>N</td>\n",
       "      <td>NaN</td>\n",
       "    </tr>\n",
       "    <tr>\n",
       "      <th>2</th>\n",
       "      <td>2021</td>\n",
       "      <td>1</td>\n",
       "      <td>1</td>\n",
       "      <td>4</td>\n",
       "      <td>1</td>\n",
       "      <td>2021-01-04</td>\n",
       "      <td>DL</td>\n",
       "      <td>DL_CODESHARE</td>\n",
       "      <td>19790</td>\n",
       "      <td>DL</td>\n",
       "      <td>...</td>\n",
       "      <td>NaN</td>\n",
       "      <td>NaN</td>\n",
       "      <td>NaN</td>\n",
       "      <td>NaN</td>\n",
       "      <td>NaN</td>\n",
       "      <td>NaN</td>\n",
       "      <td>NaN</td>\n",
       "      <td>NaN</td>\n",
       "      <td>N</td>\n",
       "      <td>NaN</td>\n",
       "    </tr>\n",
       "    <tr>\n",
       "      <th>3</th>\n",
       "      <td>2021</td>\n",
       "      <td>1</td>\n",
       "      <td>1</td>\n",
       "      <td>7</td>\n",
       "      <td>4</td>\n",
       "      <td>2021-01-07</td>\n",
       "      <td>DL</td>\n",
       "      <td>DL_CODESHARE</td>\n",
       "      <td>19790</td>\n",
       "      <td>DL</td>\n",
       "      <td>...</td>\n",
       "      <td>NaN</td>\n",
       "      <td>NaN</td>\n",
       "      <td>NaN</td>\n",
       "      <td>NaN</td>\n",
       "      <td>NaN</td>\n",
       "      <td>NaN</td>\n",
       "      <td>NaN</td>\n",
       "      <td>NaN</td>\n",
       "      <td>N</td>\n",
       "      <td>NaN</td>\n",
       "    </tr>\n",
       "    <tr>\n",
       "      <th>4</th>\n",
       "      <td>2021</td>\n",
       "      <td>1</td>\n",
       "      <td>1</td>\n",
       "      <td>8</td>\n",
       "      <td>5</td>\n",
       "      <td>2021-01-08</td>\n",
       "      <td>DL</td>\n",
       "      <td>DL_CODESHARE</td>\n",
       "      <td>19790</td>\n",
       "      <td>DL</td>\n",
       "      <td>...</td>\n",
       "      <td>NaN</td>\n",
       "      <td>NaN</td>\n",
       "      <td>NaN</td>\n",
       "      <td>NaN</td>\n",
       "      <td>NaN</td>\n",
       "      <td>NaN</td>\n",
       "      <td>NaN</td>\n",
       "      <td>NaN</td>\n",
       "      <td>N</td>\n",
       "      <td>NaN</td>\n",
       "    </tr>\n",
       "  </tbody>\n",
       "</table>\n",
       "<p>5 rows × 120 columns</p>\n",
       "</div>"
      ],
      "text/plain": [
       "   Year  Quarter  Month  DayofMonth  DayOfWeek  FlightDate  \\\n",
       "0  2021        1      1           2          6  2021-01-02   \n",
       "1  2021        1      1           3          7  2021-01-03   \n",
       "2  2021        1      1           4          1  2021-01-04   \n",
       "3  2021        1      1           7          4  2021-01-07   \n",
       "4  2021        1      1           8          5  2021-01-08   \n",
       "\n",
       "  Marketing_Airline_Network Operated_or_Branded_Code_Share_Partners  \\\n",
       "0                        DL                            DL_CODESHARE   \n",
       "1                        DL                            DL_CODESHARE   \n",
       "2                        DL                            DL_CODESHARE   \n",
       "3                        DL                            DL_CODESHARE   \n",
       "4                        DL                            DL_CODESHARE   \n",
       "\n",
       "   DOT_ID_Marketing_Airline IATA_Code_Marketing_Airline      ...       \\\n",
       "0                     19790                          DL      ...        \n",
       "1                     19790                          DL      ...        \n",
       "2                     19790                          DL      ...        \n",
       "3                     19790                          DL      ...        \n",
       "4                     19790                          DL      ...        \n",
       "\n",
       "   Div5Airport Div5AirportID  Div5AirportSeqID Div5WheelsOn  Div5TotalGTime  \\\n",
       "0          NaN           NaN               NaN          NaN             NaN   \n",
       "1          NaN           NaN               NaN          NaN             NaN   \n",
       "2          NaN           NaN               NaN          NaN             NaN   \n",
       "3          NaN           NaN               NaN          NaN             NaN   \n",
       "4          NaN           NaN               NaN          NaN             NaN   \n",
       "\n",
       "  Div5LongestGTime  Div5WheelsOff Div5TailNum Duplicate  Unnamed: 119  \n",
       "0              NaN            NaN         NaN         N           NaN  \n",
       "1              NaN            NaN         NaN         N           NaN  \n",
       "2              NaN            NaN         NaN         N           NaN  \n",
       "3              NaN            NaN         NaN         N           NaN  \n",
       "4              NaN            NaN         NaN         N           NaN  \n",
       "\n",
       "[5 rows x 120 columns]"
      ]
     },
     "execution_count": 3,
     "metadata": {},
     "output_type": "execute_result"
    }
   ],
   "source": [
    "flight_data.head()"
   ]
  },
  {
   "cell_type": "code",
   "execution_count": 4,
   "metadata": {},
   "outputs": [
    {
     "name": "stdout",
     "output_type": "stream",
     "text": [
      "<class 'pandas.core.frame.DataFrame'>\n",
      "RangeIndex: 379384 entries, 0 to 379383\n",
      "Columns: 120 entries, Year to Unnamed: 119\n",
      "dtypes: float64(72), int64(23), object(25)\n",
      "memory usage: 347.3+ MB\n"
     ]
    }
   ],
   "source": [
    "flight_data.info()"
   ]
  },
  {
   "cell_type": "code",
   "execution_count": 5,
   "metadata": {},
   "outputs": [
    {
     "name": "stdout",
     "output_type": "stream",
     "text": [
      "Number of cancelled flights: 4155\n",
      "Number of delayed flights: 82608\n",
      "Total number of flights: 379384\n"
     ]
    }
   ],
   "source": [
    "num_cancelled_flights = flight_data[flight_data['Cancelled'] == True].shape[0]\n",
    "\n",
    "# Count the number of delayed flights (assuming delayed flights are those with positive arrival delay)\n",
    "num_delayed_flights = flight_data[flight_data['ArrDelay'] > 0].shape[0]\n",
    "\n",
    "print(\"Number of cancelled flights:\", num_cancelled_flights)\n",
    "print(\"Number of delayed flights:\", num_delayed_flights)\n",
    "\n",
    "total_flights = flight_data.shape[0]\n",
    "\n",
    "print(\"Total number of flights:\", total_flights)"
   ]
  },
  {
   "cell_type": "code",
   "execution_count": 6,
   "metadata": {},
   "outputs": [],
   "source": [
    "import numpy as np\n",
    "\n",
    "# Define a function to determine flight status based on 'Cancelled' and 'ArrDelay' columns\n",
    "def get_flight_status(cancelled, arr_delay):\n",
    "    flight_status = np.where(cancelled, 'Cancelled', np.where(arr_delay > 0, 'Delayed', 'On Time'))\n",
    "    return flight_status\n",
    "\n",
    "# Apply the function to create a new 'FlightStatus' column\n",
    "flight_data['FlightStatus'] = get_flight_status(flight_data['Cancelled'], flight_data['ArrDelay'])"
   ]
  },
  {
   "cell_type": "code",
   "execution_count": 7,
   "metadata": {},
   "outputs": [
    {
     "name": "stdout",
     "output_type": "stream",
     "text": [
      "   Cancelled  ArrDelay FlightStatus\n",
      "0        0.0     -12.0      On Time\n",
      "1        0.0     -15.0      On Time\n",
      "2        0.0      -1.0      On Time\n",
      "3        0.0      -1.0      On Time\n",
      "4        0.0      14.0      Delayed\n"
     ]
    }
   ],
   "source": [
    "print(flight_data[['Cancelled', 'ArrDelay', 'FlightStatus']].head())"
   ]
  },
  {
   "cell_type": "code",
   "execution_count": 8,
   "metadata": {},
   "outputs": [
    {
     "data": {
      "image/png": "[encoded data removed]",
      "text/plain": [
       "<matplotlib.figure.Figure at 0x7fd22f0bb278>"
      ]
     },
     "metadata": {},
     "output_type": "display_data"
    }
   ],
   "source": [
    "# Filter the DataFrame to include only cancelled flights\n",
    "cancelled_flights = flight_data[flight_data['FlightStatus'] == 'Cancelled']\n",
    "\n",
    "# Group the data by month and count the number of cancelled flights in each month\n",
    "cancelled_by_month = cancelled_flights.groupby('Month')['FlightStatus'].count()\n",
    "\n",
    "# Plot the results using a bar plot\n",
    "cancelled_by_month.plot(kind='bar', color='red')\n",
    "plt.xlabel('Month')\n",
    "plt.ylabel('Number of Cancelled Flights')\n",
    "plt.title('Number of Cancelled Flights by Month')\n",
    "plt.xticks(rotation=0)  # Rotate x-axis labels if needed\n",
    "plt.show()"
   ]
  },
  {
   "cell_type": "code",
   "execution_count": 9,
   "metadata": {},
   "outputs": [
    {
     "data": {
      "image/png": "[encoded data removed]",
      "text/plain": [
       "<matplotlib.figure.Figure at 0x7fd22f0bbcf8>"
      ]
     },
     "metadata": {},
     "output_type": "display_data"
    }
   ],
   "source": [
    "delayed_flights = flight_data[flight_data['FlightStatus'] == 'Delayed']\n",
    "\n",
    "# Group the data by month and count the number of delayed flights in each month\n",
    "delayed_by_month = delayed_flights.groupby('Month')['FlightStatus'].count()\n",
    "\n",
    "# Plot the results using a bar plot\n",
    "delayed_by_month.plot(kind='bar', color='orange')\n",
    "plt.xlabel('Month')\n",
    "plt.ylabel('Number of Delayed Flights')\n",
    "plt.title('Number of Delayed Flights by Month')\n",
    "plt.xticks(rotation=0)  # Rotate x-axis labels if needed\n",
    "plt.show()"
   ]
  },
  {
   "cell_type": "code",
   "execution_count": 10,
   "metadata": {},
   "outputs": [
    {
     "data": {
      "image/png": "[encoded data removed]",
      "text/plain": [
       "<matplotlib.figure.Figure at 0x7fd22d842f98>"
      ]
     },
     "metadata": {},
     "output_type": "display_data"
    }
   ],
   "source": [
    "flights_by_month = flight_data['Month'].value_counts().sort_index()\n",
    "\n",
    "# Plot the results using a bar plot\n",
    "flights_by_month.plot(kind='bar', color='blue')\n",
    "plt.xlabel('Month')\n",
    "plt.ylabel('Number of Flights')\n",
    "plt.title('Number of Flights for Each Month')\n",
    "plt.xticks(rotation=0)  # Rotate x-axis labels if needed\n",
    "plt.show()"
   ]
  },
  {
   "cell_type": "code",
   "execution_count": 11,
   "metadata": {},
   "outputs": [],
   "source": [
    "# Randomly sample 10% of the data\n",
    "sampled_data = flight_data.sample(frac=0.1, random_state=42)\n"
   ]
  },
  {
   "cell_type": "code",
   "execution_count": 12,
   "metadata": {},
   "outputs": [],
   "source": [
    "# Identify categorical columns\n",
    "categorical_columns = [\n",
    "    'FlightDate', 'Marketing_Airline_Network', 'Operated_or_Branded_Code_Share_Partners',\n",
    "    'IATA_Code_Marketing_Airline', 'Originally_Scheduled_Code_Share_Airline',\n",
    "    'IATA_Code_Originally_Scheduled_Code_Share_Airline',\n",
    "    'Tail_Number', 'Origin', 'OriginCityName', 'OriginState', 'OriginStateName',\n",
    "    'Dest', 'DestCityName', 'DestState', 'DestStateName', 'DepTimeBlk', 'ArrTimeBlk',\n",
    "    'CancellationCode', 'Div1Airport', 'Div1TailNum', 'Div2Airport', 'Div2TailNum',\n",
    "    'Duplicate'\n",
    "]"
   ]
  },
  {
   "cell_type": "code",
   "execution_count": 13,
   "metadata": {},
   "outputs": [],
   "source": [
    "import pandas as pd\n",
    "from sklearn.preprocessing import OneHotEncoder\n",
    "\n",
    "# Create a DataFrame containing only the categorical variables\n",
    "X_categorical = sampled_data[categorical_columns]\n",
    "\n",
    "# Fill missing values with a placeholder (e.g., 'missing')\n",
    "X_categorical_filled = X_categorical.fillna('missing')\n",
    "\n",
    "# Convert categorical variables to numerical representations\n",
    "X_categorical_encoded = X_categorical_filled.apply(lambda col: pd.factorize(col)[0])\n"
   ]
  },
  {
   "cell_type": "code",
   "execution_count": 14,
   "metadata": {},
   "outputs": [],
   "source": [
    "\n",
    "# Perform one-hot encoding\n",
    "encoder = OneHotEncoder(sparse=False, handle_unknown='ignore')\n",
    "X_encoded = encoder.fit_transform(X_categorical_encoded)\n"
   ]
  },
  {
   "cell_type": "code",
   "execution_count": 18,
   "metadata": {},
   "outputs": [
    {
     "name": "stdout",
     "output_type": "stream",
     "text": [
      "Training set shape: (30350, 6476) (30350,)\n",
      "Test set shape: (7588, 6476) (7588,)\n"
     ]
    }
   ],
   "source": [
    "from sklearn.model_selection import train_test_split\n",
    "\n",
    "y_sample = sampled_data['FlightStatus']\n",
    "\n",
    "\n",
    "# Split the encoded dataset into training and test sets (80% train, 20% test)\n",
    "X_train, X_test, y_train, y_test = train_test_split(X_encoded, y_sample, test_size=0.2, random_state=42)\n",
    "\n",
    "# Print the shapes of the resulting datasets\n",
    "print(\"Training set shape:\", X_train.shape, y_train.shape)\n",
    "print(\"Test set shape:\", X_test.shape, y_test.shape)\n"
   ]
  },
  {
   "cell_type": "code",
   "execution_count": 19,
   "metadata": {},
   "outputs": [
    {
     "data": {
      "text/plain": [
       "DecisionTreeClassifier(class_weight=None, criterion='gini', max_depth=None,\n",
       "            max_features=None, max_leaf_nodes=None,\n",
       "            min_impurity_decrease=0.0, min_impurity_split=None,\n",
       "            min_samples_leaf=1, min_samples_split=2,\n",
       "            min_weight_fraction_leaf=0.0, presort=False, random_state=42,\n",
       "            splitter='best')"
      ]
     },
     "execution_count": 19,
     "metadata": {},
     "output_type": "execute_result"
    }
   ],
   "source": [
    "from sklearn.tree import DecisionTreeClassifier\n",
    "from sklearn.metrics import accuracy_score\n",
    "\n",
    "# Create an instance of DecisionTreeClassifier\n",
    "clf = DecisionTreeClassifier(random_state=42)\n",
    "\n",
    "# Train the classifier on the training data\n",
    "clf.fit(X_train, y_train)\n"
   ]
  },
  {
   "cell_type": "code",
   "execution_count": 20,
   "metadata": {},
   "outputs": [
    {
     "name": "stdout",
     "output_type": "stream",
     "text": [
      "Accuracy: 0.733394833948\n"
     ]
    }
   ],
   "source": [
    "# Make predictions on the test data\n",
    "y_pred = clf.predict(X_test)\n",
    "\n",
    "# Evaluate the performance of the classifier\n",
    "accuracy = accuracy_score(y_test, y_pred)\n",
    "print(\"Accuracy:\", accuracy)"
   ]
  },
  {
   "cell_type": "code",
   "execution_count": 21,
   "metadata": {},
   "outputs": [
    {
     "name": "stdout",
     "output_type": "stream",
     "text": [
      "F1 Score: 0.721039603997\n"
     ]
    }
   ],
   "source": [
    "from sklearn.metrics import f1_score\n",
    "\n",
    "# Assuming you have already trained your classifier and made predictions\n",
    "predictions = clf.predict(X_test)\n",
    "\n",
    "# Calculate F1 score\n",
    "f1 = f1_score(y_test, predictions, average='weighted')\n",
    "\n",
    "print(\"F1 Score:\", f1)\n"
   ]
  },
  {
   "cell_type": "code",
   "execution_count": 35,
   "metadata": {},
   "outputs": [
    {
     "name": "stdout",
     "output_type": "stream",
     "text": [
      "Year: int64\n",
      "Quarter: int64\n",
      "Month: int64\n",
      "DayofMonth: int64\n",
      "DayOfWeek: int64\n",
      "FlightDate: object\n",
      "Marketing_Airline_Network: object\n",
      "Operated_or_Branded_Code_Share_Partners: object\n",
      "DOT_ID_Marketing_Airline: int64\n",
      "IATA_Code_Marketing_Airline: object\n",
      "Flight_Number_Marketing_Airline: int64\n",
      "Originally_Scheduled_Code_Share_Airline: object\n",
      "DOT_ID_Originally_Scheduled_Code_Share_Airline: float64\n",
      "IATA_Code_Originally_Scheduled_Code_Share_Airline: object\n",
      "Flight_Num_Originally_Scheduled_Code_Share_Airline: float64\n",
      "Operating_Airline : object\n",
      "DOT_ID_Operating_Airline: int64\n",
      "IATA_Code_Operating_Airline: object\n",
      "Tail_Number: object\n",
      "Flight_Number_Operating_Airline: int64\n",
      "OriginAirportID: int64\n",
      "OriginAirportSeqID: int64\n",
      "OriginCityMarketID: int64\n",
      "Origin: object\n",
      "OriginCityName: object\n",
      "OriginState: object\n",
      "OriginStateFips: int64\n",
      "OriginStateName: object\n",
      "OriginWac: int64\n",
      "DestAirportID: int64\n",
      "DestAirportSeqID: int64\n",
      "DestCityMarketID: int64\n",
      "Dest: object\n",
      "DestCityName: object\n",
      "DestState: object\n",
      "DestStateFips: int64\n",
      "DestStateName: object\n",
      "DestWac: int64\n",
      "CRSDepTime: int64\n",
      "DepTime: float64\n",
      "DepDelay: float64\n",
      "DepDelayMinutes: float64\n",
      "DepDel15: float64\n",
      "DepartureDelayGroups: float64\n",
      "DepTimeBlk: object\n",
      "TaxiOut: float64\n",
      "WheelsOff: float64\n",
      "WheelsOn: float64\n",
      "TaxiIn: float64\n",
      "CRSArrTime: int64\n",
      "ArrTime: float64\n",
      "ArrDelay: float64\n",
      "ArrDelayMinutes: float64\n",
      "ArrDel15: float64\n",
      "ArrivalDelayGroups: float64\n",
      "ArrTimeBlk: object\n",
      "Cancelled: float64\n",
      "CancellationCode: object\n",
      "Diverted: float64\n",
      "CRSElapsedTime: float64\n",
      "ActualElapsedTime: float64\n",
      "AirTime: float64\n",
      "Flights: float64\n",
      "Distance: float64\n",
      "DistanceGroup: int64\n",
      "CarrierDelay: float64\n",
      "WeatherDelay: float64\n",
      "NASDelay: float64\n",
      "SecurityDelay: float64\n",
      "LateAircraftDelay: float64\n",
      "FirstDepTime: float64\n",
      "TotalAddGTime: float64\n",
      "LongestAddGTime: float64\n",
      "DivAirportLandings: int64\n",
      "DivReachedDest: float64\n",
      "DivActualElapsedTime: float64\n",
      "DivArrDelay: float64\n",
      "DivDistance: float64\n",
      "Div1Airport: object\n",
      "Div1AirportID: float64\n",
      "Div1AirportSeqID: float64\n",
      "Div1WheelsOn: float64\n",
      "Div1TotalGTime: float64\n",
      "Div1LongestGTime: float64\n",
      "Div1WheelsOff: float64\n",
      "Div1TailNum: object\n",
      "Div2Airport: object\n",
      "Div2AirportID: float64\n",
      "Div2AirportSeqID: float64\n",
      "Div2WheelsOn: float64\n",
      "Div2TotalGTime: float64\n",
      "Div2LongestGTime: float64\n",
      "Div2WheelsOff: float64\n",
      "Div2TailNum: object\n",
      "Div3Airport: float64\n",
      "Div3AirportID: float64\n",
      "Div3AirportSeqID: float64\n",
      "Div3WheelsOn: float64\n",
      "Div3TotalGTime: float64\n",
      "Div3LongestGTime: float64\n",
      "Div3WheelsOff: float64\n",
      "Div3TailNum: float64\n",
      "Div4Airport: float64\n",
      "Div4AirportID: float64\n",
      "Div4AirportSeqID: float64\n",
      "Div4WheelsOn: float64\n",
      "Div4TotalGTime: float64\n",
      "Div4LongestGTime: float64\n",
      "Div4WheelsOff: float64\n",
      "Div4TailNum: float64\n",
      "Div5Airport: float64\n",
      "Div5AirportID: float64\n",
      "Div5AirportSeqID: float64\n",
      "Div5WheelsOn: float64\n",
      "Div5TotalGTime: float64\n",
      "Div5LongestGTime: float64\n",
      "Div5WheelsOff: float64\n",
      "Div5TailNum: float64\n",
      "Duplicate: object\n",
      "Unnamed: 119: float64\n",
      "FlightStatus: object\n"
     ]
    }
   ],
   "source": [
    "for column in flight_data.columns:\n",
    "    print(f\"{column}: {flight_data[column].dtype}\")\n"
   ]
  }
 ],
 "metadata": {
  "kernelspec": {
   "display_name": "Python 3",
   "language": "python",
   "name": "python3"
  },
  "language_info": {
   "codemirror_mode": {
    "name": "ipython",
    "version": 3
   },
   "file_extension": ".py",
   "mimetype": "text/x-python",
   "name": "python",
   "nbconvert_exporter": "python",
   "pygments_lexer": "ipython3",
   "version": "3.6.9"
  }
 },
 "nbformat": 4,
 "nbformat_minor": 2
}
